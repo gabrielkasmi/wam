{
 "cells": [
  {
   "cell_type": "markdown",
   "metadata": {},
   "source": [
    "# Wavelet Attribution Method (WAM)\n",
    "\n",
    "This notebook depicts a minimal example to compute feature attributions using the Wavelet Attribution Method. See [our paper](https://openreview.net/forum?id=njZ5oVPObS) for more details."
   ]
  },
  {
   "cell_type": "code",
   "execution_count": 6,
   "metadata": {},
   "outputs": [],
   "source": [
    "# Libraries imports\n",
    "from torchvision import transforms, models\n",
    "from lib.wam_2D import WaveletAttribution2D\n",
    "from PIL import Image\n",
    "import matplotlib.pyplot as plt\n",
    "import numpy as np\n",
    "from src.viewers import plot_wam"
   ]
  },
  {
   "cell_type": "code",
   "execution_count": 2,
   "metadata": {},
   "outputs": [],
   "source": [
    "# Set up the model and the explainer\n",
    "model = models.resnet18(weights=models.ResNet18_Weights.DEFAULT)\n",
    "model.eval()\n",
    "\n",
    "transform = transforms.Compose([\n",
    "    transforms.Resize(256),\n",
    "    transforms.CenterCrop(224),\n",
    "    transforms.ToTensor(),\n",
    "    transforms.Normalize(mean=[0.485, 0.456, 0.406], std=[0.229, 0.224, 0.225]),\n",
    "])  \n",
    "\n",
    "# parameters for the explainer\n",
    "wavelet=\"haar\"\n",
    "levels=3\n",
    "method=\"smooth\"\n",
    "\n",
    "explainer = WaveletAttribution2D(model, \n",
    "                                 wavelet=wavelet, \n",
    "                                 J=levels, \n",
    "                                 method=method, \n",
    "                                 mode=\"reflect\", \n",
    "                                 )"
   ]
  },
  {
   "cell_type": "code",
   "execution_count": null,
   "metadata": {},
   "outputs": [],
   "source": [
    "# load the image\n",
    "device=\"cpu\"\n",
    "model.to(device)\n",
    "\n",
    "\n",
    "x=transform(Image.open(\"assets/elephant.jpg\")).unsqueeze(0)\n",
    "y=model(x).argmax().item()\n",
    "\n",
    "explantions=explainer(x,y)\n"
   ]
  },
  {
   "cell_type": "code",
   "execution_count": null,
   "metadata": {},
   "outputs": [],
   "source": [
    "# Create a figure with two subplots side by side\n",
    "fig, (ax1, ax2) = plt.subplots(1, 2, figsize=(12, 5))\n",
    "\n",
    "# Plot original image on the left\n",
    "# Convert tensor back to image format and denormalize\n",
    "img = x.squeeze(0).permute(1,2,0).numpy()\n",
    "img = img * np.array([0.229, 0.224, 0.225]) + np.array([0.485, 0.456, 0.406])\n",
    "img = np.clip(img, 0, 1)\n",
    "ax1.imshow(img)\n",
    "ax1.set_title('Original Image')\n",
    "ax1.axis('off')\n",
    "\n",
    "# Plot WAM on the right using the provided plot_wam function\n",
    "plot_wam(ax2, explantions[0], levels=levels, cmap='viridis', smooth=True)\n",
    "ax2.set_title('WAM')\n",
    "ax2.axis('off')\n",
    "\n",
    "plt.tight_layout()\n",
    "plt.show()\n"
   ]
  },
  {
   "cell_type": "code",
   "execution_count": null,
   "metadata": {},
   "outputs": [],
   "source": []
  }
 ],
 "metadata": {
  "kernelspec": {
   "display_name": "wam",
   "language": "python",
   "name": "python3"
  },
  "language_info": {
   "codemirror_mode": {
    "name": "ipython",
    "version": 3
   },
   "file_extension": ".py",
   "mimetype": "text/x-python",
   "name": "python",
   "nbconvert_exporter": "python",
   "pygments_lexer": "ipython3",
   "version": "3.9.23"
  }
 },
 "nbformat": 4,
 "nbformat_minor": 2
}
