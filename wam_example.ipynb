{
  "cells": [
    {
      "cell_type": "markdown",
      "metadata": {
        "id": "-Ck5v3-UVs1s"
      },
      "source": [
        "# Wavelet Attribution Method (WAM)\n",
        "\n",
        "This notebook shows how to use the Wavelet Attribution Method (WAM) to visualize what scales matter most to a model's predictions. For the full technical details, check out [our paper](https://openreview.net/forum?id=njZ5oVPObS) or the [project repository](https://github.com/gabrielkasmi/wam)"
      ]
    },
    {
      "cell_type": "code",
      "execution_count": null,
      "metadata": {
        "id": "fp1qYomUVrd5"
      },
      "outputs": [],
      "source": [
        "# If you run this notebook locally, you can ignore this cell \n",
        "# and directly import the libraries\n",
        "\n",
        "# Clone the WAM repository\n",
        "!git clone https://github.com/gabrielkasmi/wam.git\n",
        "%cd wam\n",
        "\n",
        "# Install required packages from requirements.txt\n",
        "!pip install -r requirements.txt"
      ]
    },
    {
      "cell_type": "code",
      "execution_count": 1,
      "metadata": {
        "id": "EN94JDfmWSAG"
      },
      "outputs": [],
      "source": [
        "# Libraries imports\n",
        "from torchvision import transforms, models\n",
        "import torch\n",
        "from lib.wam_2D import WaveletAttribution2D\n",
        "from PIL import Image\n",
        "import matplotlib.pyplot as plt\n",
        "import numpy as np\n",
        "from src.viewers import plot_wam"
      ]
    },
    {
      "cell_type": "code",
      "execution_count": 6,
      "metadata": {
        "id": "ryrYnr5AWu79"
      },
      "outputs": [],
      "source": [
        "# Set up the model and the explainer\n",
        "\n",
        "model = models.resnet18(weights=models.ResNet18_Weights.DEFAULT)\n",
        "model.eval()\n",
        "\n",
        "transform = transforms.Compose([\n",
        "    transforms.Resize(256),\n",
        "    transforms.CenterCrop(224),\n",
        "    transforms.ToTensor(),\n",
        "    transforms.Normalize(mean=[0.485, 0.456, 0.406], std=[0.229, 0.224, 0.225]),\n",
        "])\n",
        "\n",
        "# parameters for the explainer\n",
        "wavelet=\"haar\"\n",
        "levels=3\n",
        "method=\"smooth\" # choose between \"integratedgrad\" or \"smooth\"\n",
        "device = \"cuda\" if torch.cuda.is_available() else \"cpu\"\n",
        "model.to(device)\n",
        "\n",
        "explainer = WaveletAttribution2D(model,\n",
        "                                 wavelet=wavelet,\n",
        "                                 J=levels,\n",
        "                                 method=method,\n",
        "                                 mode=\"reflect\",\n",
        "                                 )"
      ]
    },
    {
      "cell_type": "code",
      "execution_count": null,
      "metadata": {
        "colab": {
          "base_uri": "https://localhost:8080/",
          "height": 507
        },
        "id": "zV56n5pkZ7JV",
        "outputId": "f7d1d6ec-0a33-4b5c-d49c-364c0777ecb3"
      },
      "outputs": [],
      "source": [
        "# load the image\n",
        "x=transform(Image.open(\"assets/elephant.jpg\")).unsqueeze(0)\n",
        "y=model(x.to(device)).argmax().item()\n",
        "\n",
        "# compute the explanations\n",
        "explantions=explainer(x,y)\n",
        "\n",
        "# display the results\n",
        "# Create a figure with two subplots side by side\n",
        "fig, (ax1, ax2) = plt.subplots(1, 2, figsize=(12, 5))\n",
        "\n",
        "# Plot original image on the left\n",
        "# Convert tensor back to image format and denormalize\n",
        "img = x.squeeze(0).permute(1,2,0).numpy()\n",
        "img = img * np.array([0.229, 0.224, 0.225]) + np.array([0.485, 0.456, 0.406])\n",
        "img = np.clip(img, 0, 1)\n",
        "ax1.imshow(img)\n",
        "ax1.set_title('Original Image')\n",
        "ax1.axis('off')\n",
        "\n",
        "# Plot WAM on the right using the provided plot_wam function\n",
        "plot_wam(ax2, explantions[0], levels=levels, cmap='viridis', smooth=True)\n",
        "ax2.set_title('WAM')\n",
        "ax2.axis('off')\n",
        "\n",
        "plt.tight_layout()\n",
        "plt.show()\n"
      ]
    },
    {
      "cell_type": "code",
      "execution_count": null,
      "metadata": {
        "id": "1nbREpQCa44-"
      },
      "outputs": [],
      "source": []
    }
  ],
  "metadata": {
    "accelerator": "GPU",
    "colab": {
      "gpuType": "T4",
      "provenance": []
    },
    "kernelspec": {
      "display_name": "wam",
      "language": "python",
      "name": "python3"
    },
    "language_info": {
      "codemirror_mode": {
        "name": "ipython",
        "version": 3
      },
      "file_extension": ".py",
      "mimetype": "text/x-python",
      "name": "python",
      "nbconvert_exporter": "python",
      "pygments_lexer": "ipython3",
      "version": "3.9.23"
    }
  },
  "nbformat": 4,
  "nbformat_minor": 0
}
